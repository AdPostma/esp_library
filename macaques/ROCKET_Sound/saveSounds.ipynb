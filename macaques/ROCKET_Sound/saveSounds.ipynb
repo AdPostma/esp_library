{
 "cells": [
  {
   "cell_type": "code",
   "execution_count": 1,
   "metadata": {},
   "outputs": [],
   "source": [
    "from fastai2.vision.all import *"
   ]
  },
  {
   "cell_type": "code",
   "execution_count": 2,
   "metadata": {},
   "outputs": [],
   "source": [
    "import pathlib\n",
    "from os import path\n",
    "HOME = Path(path.expanduser(\"~\"))\n",
    "import numpy as np"
   ]
  },
  {
   "cell_type": "code",
   "execution_count": 3,
   "metadata": {},
   "outputs": [
    {
     "data": {
      "text/plain": [
       "Path('/home/malcolm/.fastai/data/macaques_24414Hz')"
      ]
     },
     "execution_count": 3,
     "metadata": {},
     "output_type": "execute_result"
    }
   ],
   "source": [
    "# path = untar_data(URLs.MACAQUES)\n",
    "path = untar_data('https://archive.org/download/macaques_24414hz_202007/macaques_24414Hz.zip')\n",
    "path"
   ]
  },
  {
   "cell_type": "code",
   "execution_count": 15,
   "metadata": {},
   "outputs": [],
   "source": [
    "wav_files = get_files(path)"
   ]
  },
  {
   "cell_type": "code",
   "execution_count": 10,
   "metadata": {},
   "outputs": [],
   "source": [
    "x,foo = librosa.load(wav_files[3], sr=24414)"
   ]
  },
  {
   "cell_type": "code",
   "execution_count": 16,
   "metadata": {
    "scrolled": true
   },
   "outputs": [],
   "source": [
    "import librosa # the librosa library makes it very convenient to work with audio files in Python\n",
    "#Must downgrade numba to v 0.48.0\n",
    "\n",
    "rate=24414\n",
    "rate=None\n",
    "audio, names = L(), L()\n",
    "\n",
    "for fp in wav_files:\n",
    "    x, _ = librosa.load(fp, sr=rate)\n",
    "    names.append(fp.parent.stem)\n",
    "    audio.append(x)"
   ]
  },
  {
   "cell_type": "code",
   "execution_count": 24,
   "metadata": {},
   "outputs": [],
   "source": [
    "np.save(str(HOME/'.fastai/data/macaques_24414Hz/callArray'),audio) "
   ]
  },
  {
   "cell_type": "code",
   "execution_count": 18,
   "metadata": {},
   "outputs": [],
   "source": [
    "np.save(str(HOME/'.fastai/data/macaques_24414Hz/nameArray'),names)"
   ]
  },
  {
   "cell_type": "code",
   "execution_count": null,
   "metadata": {},
   "outputs": [],
   "source": []
  }
 ],
 "metadata": {
  "kernelspec": {
   "display_name": "Python 3",
   "language": "python",
   "name": "python3"
  },
  "language_info": {
   "codemirror_mode": {
    "name": "ipython",
    "version": 3
   },
   "file_extension": ".py",
   "mimetype": "text/x-python",
   "name": "python",
   "nbconvert_exporter": "python",
   "pygments_lexer": "ipython3",
   "version": "3.7.6"
  }
 },
 "nbformat": 4,
 "nbformat_minor": 4
}
